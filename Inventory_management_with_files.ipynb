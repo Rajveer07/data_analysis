{
 "cells": [
  {
   "cell_type": "code",
   "execution_count": 1,
   "id": "99b6c4a8-cd91-4f67-a9de-94d7a863e721",
   "metadata": {},
   "outputs": [],
   "source": [
    "fd = open('inventory.txt','w')\n",
    "fd.close()"
   ]
  },
  {
   "cell_type": "markdown",
   "id": "5673ec92-dc35-4ea1-b8ab-6a56b70aa652",
   "metadata": {},
   "source": [
    "1. Product ID\n",
    "2. Name of Product\n",
    "3. Price\n",
    "4. Quantity"
   ]
  },
  {
   "cell_type": "code",
   "execution_count": 2,
   "id": "2a12d2e3-1365-408a-98cc-67222ff60e5f",
   "metadata": {},
   "outputs": [],
   "source": [
    "fd = open('inventory.txt','r')\n",
    "txt = fd.read()\n",
    "fd.close()\n"
   ]
  },
  {
   "cell_type": "code",
   "execution_count": 3,
   "id": "7d32d021-3dd4-44eb-8216-cfca75891f3f",
   "metadata": {},
   "outputs": [
    {
     "data": {
      "text/plain": [
       "''"
      ]
     },
     "execution_count": 3,
     "metadata": {},
     "output_type": "execute_result"
    }
   ],
   "source": [
    "txt\n"
   ]
  },
  {
   "cell_type": "code",
   "execution_count": 4,
   "id": "dd6c7d2f-6b90-47e8-984c-3d6ad945657d",
   "metadata": {},
   "outputs": [
    {
     "name": "stdout",
     "output_type": "stream",
     "text": [
      "\n"
     ]
    }
   ],
   "source": [
    "print(txt)\n"
   ]
  },
  {
   "cell_type": "code",
   "execution_count": 5,
   "id": "15a3231c-5fa1-4c9f-bdc7-336e7b8276cc",
   "metadata": {},
   "outputs": [
    {
     "data": {
      "text/plain": [
       "['']"
      ]
     },
     "execution_count": 5,
     "metadata": {},
     "output_type": "execute_result"
    }
   ],
   "source": [
    "txt.split('\\n')"
   ]
  },
  {
   "cell_type": "code",
   "execution_count": 6,
   "id": "fde6bdbb-f6b4-4a42-bd20-69eed056e683",
   "metadata": {},
   "outputs": [],
   "source": [
    "#Reading the inventory\n",
    "fd = open('inventory.txt','r')\n",
    "products = fd.read().split('\\n')\n",
    "fd.close()"
   ]
  },
  {
   "cell_type": "code",
   "execution_count": 13,
   "id": "e2c3501a-bc55-4952-927d-80ce7146e370",
   "metadata": {},
   "outputs": [
    {
     "name": "stdout",
     "output_type": "stream",
     "text": [
      "\n"
     ]
    }
   ],
   "source": [
    "for i in products:\n",
    "    print(i)"
   ]
  },
  {
   "cell_type": "code",
   "execution_count": 8,
   "id": "00ce5e61-8b18-45e5-94ed-dc609f1d6691",
   "metadata": {},
   "outputs": [],
   "source": [
    "##Bill"
   ]
  },
  {
   "cell_type": "code",
   "execution_count": null,
   "id": "ea6d0468-95ce-4106-97d8-4d2526541906",
   "metadata": {},
   "outputs": [],
   "source": []
  },
  {
   "cell_type": "code",
   "execution_count": 12,
   "id": "4834e3ce-0467-4a99-80fd-eedc8dfcbce3",
   "metadata": {
    "scrolled": true
   },
   "outputs": [
    {
     "name": "stdin",
     "output_type": "stream",
     "text": [
      "Enter the name 1\n",
      "Enter the phone no. 8382839958\n",
      "Enter the product ID: 1\n",
      "Enter product Quantity: 2\n"
     ]
    },
    {
     "name": "stdout",
     "output_type": "stream",
     "text": [
      "[['']]\n"
     ]
    },
    {
     "ename": "IndexError",
     "evalue": "list index out of range",
     "output_type": "error",
     "traceback": [
      "\u001b[1;31m---------------------------------------------------------------------------\u001b[0m",
      "\u001b[1;31mIndexError\u001b[0m                                Traceback (most recent call last)",
      "Cell \u001b[1;32mIn[12], line 49\u001b[0m\n\u001b[0;32m     46\u001b[0m \u001b[38;5;28mprint\u001b[39m(updated_prod_list)\n\u001b[0;32m     48\u001b[0m \u001b[38;5;28;01mfor\u001b[39;00m i \u001b[38;5;129;01min\u001b[39;00m updated_prod_list:\n\u001b[1;32m---> 49\u001b[0m     prod \u001b[38;5;241m=\u001b[39m i[\u001b[38;5;241m0\u001b[39m]\u001b[38;5;241m+\u001b[39m\u001b[38;5;124m\"\u001b[39m\u001b[38;5;124m,\u001b[39m\u001b[38;5;124m\"\u001b[39m\u001b[38;5;241m+\u001b[39mi[\u001b[38;5;241m1\u001b[39m]\u001b[38;5;241m+\u001b[39m\u001b[38;5;124m\"\u001b[39m\u001b[38;5;124m,\u001b[39m\u001b[38;5;124m\"\u001b[39m\u001b[38;5;241m+\u001b[39mi[\u001b[38;5;241m2\u001b[39m]\u001b[38;5;241m+\u001b[39m\u001b[38;5;124m\"\u001b[39m\u001b[38;5;124m,\u001b[39m\u001b[38;5;124m\"\u001b[39m\u001b[38;5;241m+\u001b[39mi[\u001b[38;5;241m3\u001b[39m]\u001b[38;5;241m+\u001b[39m\u001b[38;5;124m\"\u001b[39m\u001b[38;5;130;01m\\n\u001b[39;00m\u001b[38;5;124m\"\u001b[39m\n\u001b[0;32m     50\u001b[0m     \u001b[38;5;28mlist\u001b[39m\u001b[38;5;241m.\u001b[39mappend(prod)\n\u001b[0;32m     51\u001b[0m \u001b[38;5;28mlist\u001b[39m[\u001b[38;5;241m-\u001b[39m\u001b[38;5;241m1\u001b[39m] \u001b[38;5;241m=\u001b[39m \u001b[38;5;28mlist\u001b[39m[\u001b[38;5;241m-\u001b[39m\u001b[38;5;241m1\u001b[39m][:\u001b[38;5;241m-\u001b[39m\u001b[38;5;241m1\u001b[39m]\n",
      "\u001b[1;31mIndexError\u001b[0m: list index out of range"
     ]
    }
   ],
   "source": [
    "# Taking user input\n",
    "ui_username = input(\"Enter the name\")\n",
    "ui_phone = input(\"Enter the phone no.\")\n",
    "ui_prod_id = input(\"Enter the product ID:\")\n",
    "ui_prod_qn = input(\"Enter product Quantity:\")\n",
    "updated_prod_list = [];\n",
    "\n",
    "#going through each product details\n",
    "for product in products:\n",
    "    prod_details = product.split(\",\")\n",
    "\n",
    "    if(prod_details[0]== ui_prod_id):\n",
    "        if(ui_prod_qn<=prod_details[3]):\n",
    "            print(\"------------------------------\")\n",
    "            print(\"Prodect Name          :\",prod_details[1])\n",
    "            print(\"Price                 :\",prod_details[2])\n",
    "            print(\"Quantity              :\",prod_details[3])\n",
    "            print(\"------------------------------\")\n",
    "            print(\"Billing Amount        :\", int(ui_prod_qn) * int(prod_details[2]))\n",
    "            print(\"------------------------------\")\n",
    "            # Updating Inventory List\n",
    "            prod_details[3] = str(int(prod_details[3]) - int(ui_prod_qn))\n",
    "            fd = open(\"Sales.txt\",\"a\")\n",
    "            sales_detail= ui_username+\",\"+ui_phone+\",\"+prod_details[1]+\",\"+ui_prod_qn+\",\"+str(int(prod_details[3]) - int(ui_prod_qn))+\"\\n\"\n",
    "            fd.write(sales_detail)\n",
    "            fd.close()\n",
    "        \n",
    "        else:\n",
    "            print(\"Sorry ,  We're not having enough quantity.\")\n",
    "            print(\"We're having only\",prod_details[3])\n",
    "            decision = input(\"Would like to buy , press Y for yes and N for no\")\n",
    "            if(decision == 'Y'):\n",
    "                print(\"------------------------------\")\n",
    "                print(\"Prodect Name          :\",prod_details[1])\n",
    "                print(\"Price                 :\",prod_details[2])\n",
    "                print(\"Quantity              :\",prod_details[3])\n",
    "                print(\"------------------------------\")\n",
    "                print(\"Billing Amount        :\", str(int(ui_prod_qn) * int(prod_details[2])))\n",
    "                print(\"------------------------------\")\n",
    "                prod_details[3] = \"0\"\n",
    "            else:\n",
    "                print(\"Thanks\")\n",
    "    updated_prod_list.append(prod_details)\n",
    "\n",
    "list = []\n",
    "print(updated_prod_list)\n",
    "\n",
    "for i in updated_prod_list:\n",
    "    prod = i[0]+\",\"+i[1]+\",\"+i[2]+\",\"+i[3]+\"\\n\"\n",
    "    list.append(prod)\n",
    "list[-1] = list[-1][:-1]\n",
    "\n",
    "#Updating Inventory File\n",
    "\n",
    "fd = open('Inventory.txt','w')\n",
    "for i in list:\n",
    "    fd.write(i)\n",
    "fd.close()\n",
    "print(\"-----------------\")\n",
    "print(\"Inventory Updated\")\n",
    "                \n",
    "            \n",
    "\n"
   ]
  },
  {
   "cell_type": "code",
   "execution_count": null,
   "id": "fb9253d1-6919-498e-bb3c-48b779b5fe7d",
   "metadata": {},
   "outputs": [],
   "source": []
  }
 ],
 "metadata": {
  "kernelspec": {
   "display_name": "Python 3 (ipykernel)",
   "language": "python",
   "name": "python3"
  },
  "language_info": {
   "codemirror_mode": {
    "name": "ipython",
    "version": 3
   },
   "file_extension": ".py",
   "mimetype": "text/x-python",
   "name": "python",
   "nbconvert_exporter": "python",
   "pygments_lexer": "ipython3",
   "version": "3.11.7"
  }
 },
 "nbformat": 4,
 "nbformat_minor": 5
}
